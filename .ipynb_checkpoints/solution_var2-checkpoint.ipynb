{
 "cells": [
  {
   "cell_type": "markdown",
   "metadata": {
    "deletable": true,
    "editable": true,
    "nbpresent": {
     "id": "48ffc250-5f32-4307-bcd8-0fc6948232cb"
    }
   },
   "source": [
    "# Потапов Анатолй 4112 ФБМФ МФТИ решения задания по курсу РГР"
   ]
  },
  {
   "cell_type": "markdown",
   "metadata": {
    "deletable": true,
    "editable": true,
    "nbpresent": {
     "id": "eb297482-7258-443b-b2c3-1d8f2ff5dda5"
    }
   },
   "source": [
    "# Задача 1.\n",
    "Просемплировать распределение $ \\chi^2 $ для произвольных параметров распределения."
   ]
  },
  {
   "cell_type": "markdown",
   "metadata": {
    "deletable": true,
    "editable": true,
    "nbpresent": {
     "id": "b9794a44-aae2-4139-8a99-e97dd46000b6"
    }
   },
   "source": [
    "Распределение хи квадрат: https://ru.wikipedia.org/wiki/распределение_хи-квадрат\n"
   ]
  },
  {
   "cell_type": "markdown",
   "metadata": {
    "deletable": true,
    "editable": true,
    "nbpresent": {
     "id": "98cf7a18-2abb-42c3-87e8-aacddf52356c"
    }
   },
   "source": [
    "Распределение хи квадрат проще всего моделировать, суммируя квадраты нормально распределенных величин:\n",
    "\n",
    "\n",
    "![Image of Yaktocat](./chi2.png)"
   ]
  },
  {
   "cell_type": "markdown",
   "metadata": {
    "deletable": true,
    "editable": true,
    "nbpresent": {
     "id": "d5c4f5f9-2c96-4bf7-94b3-02beefc4b415"
    }
   },
   "source": [
    "## План решения:\n",
    "\n",
    "1) Генератор равномерно распределенных чисел\n",
    "\n",
    "2) Генератор нормально распределенных чисел\n",
    "\n",
    "3) Генератор распределения хи квадрат"
   ]
  },
  {
   "cell_type": "code",
   "execution_count": 5,
   "metadata": {
    "collapsed": true,
    "deletable": true,
    "editable": true,
    "nbpresent": {
     "id": "d190f7ff-d8ca-4400-bbd5-65fefaf610fc"
    }
   },
   "outputs": [],
   "source": [
    "import sys\n",
    "import numpy as np\n",
    "import math\n",
    "import pylab\n",
    "import matplotlib.pyplot as plt"
   ]
  },
  {
   "cell_type": "code",
   "execution_count": 7,
   "metadata": {
    "collapsed": true,
    "deletable": true,
    "editable": true,
    "nbpresent": {
     "id": "c829fe9f-8777-4c8d-9d85-4af64811ec89"
    }
   },
   "outputs": [],
   "source": [
    "def plot_hist(data):\n",
    "    plt.hist(data, bins='auto')  # arguments are passed to np.histogram\n",
    "    plt.show()"
   ]
  },
  {
   "cell_type": "markdown",
   "metadata": {
    "deletable": true,
    "editable": true,
    "nbpresent": {
     "id": "f8dbd724-67f2-49d7-8323-09f3b6f7540d"
    }
   },
   "source": [
    "### Генератор равномерного распределения\n",
    "Будем использовать вихрь Вихрь Мерсенна https://ru.wikipedia.org/wiki/Вихрь_Мерсенна в качестве генератора псевдослучайных чисел."
   ]
  },
  {
   "cell_type": "code",
   "execution_count": 10,
   "metadata": {
    "collapsed": false,
    "deletable": true,
    "editable": true,
    "nbpresent": {
     "id": "4744cf2d-347d-4be5-8d6d-b5584a60f367"
    }
   },
   "outputs": [
    {
     "data": {
      "image/png": "[encoded data removed]",
      "text/plain": [
       "<matplotlib.figure.Figure at 0x7fd1dca69198>"
      ]
     },
     "metadata": {},
     "output_type": "display_data"
    }
   ],
   "source": [
    "class UniformGenerator(object):\n",
    "    def __init__(self, seed = 5489):\n",
    "        self.state = [0]*624\n",
    "        self.f = 1812433253\n",
    "        self.m = 397\n",
    "        self.u = 11\n",
    "        self.s = 7\n",
    "        self.b = 0x9D2C5680\n",
    "        self.t = 15\n",
    "        self.c = 0xEFC60000\n",
    "        self.l = 18\n",
    "        self.index = 624\n",
    "        self.lower_mask = (1<<31)-1\n",
    "        self.upper_mask = 1<<31\n",
    "\n",
    "        # update state\n",
    "        self.state[0] = seed\n",
    "        for i in range(1,624):\n",
    "            self.state[i] = self.int_32(self.f*(self.state[i-1]^(self.state[i-1]>>30)) + i)\n",
    "\n",
    "    def twist(self):\n",
    "        for i in range(624):\n",
    "            temp = self.int_32((self.state[i]&self.upper_mask)+(self.state[(i+1)%624]&self.lower_mask))\n",
    "            temp_shift = temp>>1\n",
    "            if temp%2 != 0:\n",
    "                temp_shift = temp_shift^0x9908b0df\n",
    "            self.state[i] = self.state[(i+self.m)%624]^temp_shift\n",
    "        self.index = 0\n",
    "\n",
    "    def get_random_number(self):\n",
    "        if self.index >= 624:\n",
    "            self.twist()\n",
    "        y = self.state[self.index]\n",
    "        y = y^(y>>self.u)\n",
    "        y = y^((y<<self.s)&self.b)\n",
    "        y = y^((y<<self.t)&self.c)\n",
    "        y = y^(y>>self.l)\n",
    "        self.index+=1\n",
    "        return self.int_32(y)\n",
    "\n",
    "    def int_32(self, number):\n",
    "        return int(0xFFFFFFFF & number)\n",
    "\n",
    "\n",
    "class Uniform(UniformGenerator):\n",
    "    def _get_uniform(self):\n",
    "        return self.get_random_number() / self.int_32(-1)\n",
    "\n",
    "    def get_array(self, num=1):\n",
    "        return np.array([self._get_uniform() for i in range(num)])\n",
    "    \n",
    "uniform_generator = Uniform()\n",
    "data = uniform_generator.get_array(100000)\n",
    "plot_hist(data)"
   ]
  },
  {
   "cell_type": "markdown",
   "metadata": {
    "deletable": true,
    "editable": true,
    "nbpresent": {
     "id": "8129864f-19fc-4356-a6b4-259d9ace590f"
    }
   },
   "source": [
    "### Генератор нормального распределения, преобразование Бокса-Мюллера"
   ]
  },
  {
   "cell_type": "code",
   "execution_count": 45,
   "metadata": {
    "collapsed": false,
    "deletable": true,
    "editable": true,
    "nbpresent": {
     "id": "102cbae0-6ee8-4c6b-beb7-81b654637646"
    }
   },
   "outputs": [
    {
     "data": {
      "image/png": "[encoded data removed]",
      "text/plain": [
       "<matplotlib.figure.Figure at 0x7fd1d2bba0f0>"
      ]
     },
     "metadata": {},
     "output_type": "display_data"
    }
   ],
   "source": [
    "class Gauss(Uniform):\n",
    "    def _get_gauss(self):\n",
    "        u, v = self._get_uniform(), self._get_uniform()\n",
    "        r, theta = math.sqrt(-2.0 * math.log(v)), 2.0 * math.pi * u\n",
    "        return r * math.cos(theta)\n",
    "\n",
    "    def get_array(self, num=1):\n",
    "        return np.array([self._get_gauss() for i in range(num)])\n",
    "\n",
    "gauss_generator = Gauss()\n",
    "data = gauss_generator.get_array(100000)\n",
    "plot_hist(data)"
   ]
  },
  {
   "cell_type": "markdown",
   "metadata": {},
   "source": [
    "### Протестируем, что наше распределение действительно нормальное"
   ]
  },
  {
   "cell_type": "markdown",
   "metadata": {},
   "source": [
    "This function tests the null hypothesis that a sample comes from a normal distribution. It is based on D’Agostino and Pearson’s [R246], [R247] test that combines skew and kurtosis to produce an omnibus test of normality."
   ]
  },
  {
   "cell_type": "code",
   "execution_count": 46,
   "metadata": {
    "collapsed": false,
    "deletable": true,
    "editable": true
   },
   "outputs": [
    {
     "data": {
      "text/plain": [
       "NormaltestResult(statistic=3.0039322571228717, pvalue=0.2226918885579742)"
      ]
     },
     "execution_count": 46,
     "metadata": {},
     "output_type": "execute_result"
    }
   ],
   "source": [
    "import scipy\n",
    "from scipy import stats\n",
    "scipy.stats.mstats.normaltest(data)"
   ]
  },
  {
   "cell_type": "markdown",
   "metadata": {
    "deletable": true,
    "editable": true,
    "nbpresent": {
     "id": "a678f9dd-6229-436b-b7fb-2d66ff8f0b18"
    }
   },
   "source": [
    "### Генератор распределения $ \\chi ^ 2 $"
   ]
  },
  {
   "cell_type": "code",
   "execution_count": 47,
   "metadata": {
    "collapsed": false,
    "deletable": true,
    "editable": true,
    "nbpresent": {
     "id": "b508692a-4f94-423a-bdce-f55396aba560"
    }
   },
   "outputs": [
    {
     "data": {
      "image/png": "[encoded data removed]",
      "text/plain": [
       "<matplotlib.figure.Figure at 0x7fd1d2a4a208>"
      ]
     },
     "metadata": {},
     "output_type": "display_data"
    }
   ],
   "source": [
    "class ChiSquare(Gauss):\n",
    "    def get_array(self, dim, num=1):\n",
    "        df = np.reshape([self._get_gauss() for i in range(dim*num)], (dim, num))\n",
    "        df = np.square(df)\n",
    "        return np.sum(df, 0)\n",
    "\n",
    "chi2_generator = ChiSquare()\n",
    "data = chi2_generator.get_array(4, 100000)\n",
    "plot_hist(data)"
   ]
  },
  {
   "cell_type": "markdown",
   "metadata": {},
   "source": [
    "Сравним со встроенным генератором из scipy.stats"
   ]
  },
  {
   "cell_type": "code",
   "execution_count": 48,
   "metadata": {
    "collapsed": false
   },
   "outputs": [
    {
     "data": {
      "image/png": "[encoded data removed]",
      "text/plain": [
       "<matplotlib.figure.Figure at 0x7fd1dc865a58>"
      ]
     },
     "metadata": {},
     "output_type": "display_data"
    }
   ],
   "source": [
    "from scipy.stats import chi2\n",
    "test_data = chi2.rvs(4, size=100000)\n",
    "plot_hist(test_data)"
   ]
  },
  {
   "cell_type": "markdown",
   "metadata": {},
   "source": [
    "Сделаем тест Колмогорова-Смирнова. Нулевая гипотеза что распределения одинаковые. Не можем отклонить нулевую гипотезу."
   ]
  },
  {
   "cell_type": "code",
   "execution_count": 49,
   "metadata": {
    "collapsed": false
   },
   "outputs": [
    {
     "data": {
      "text/plain": [
       "Ks_2sampResult(statistic=0.0040600000000000636, pvalue=0.38132868708726447)"
      ]
     },
     "execution_count": 49,
     "metadata": {},
     "output_type": "execute_result"
    }
   ],
   "source": [
    "scipy.stats.ks_2samp(data, test_data)"
   ]
  },
  {
   "cell_type": "markdown",
   "metadata": {},
   "source": [
    "# Задача 2.\n",
    "Определить принадлежат ли сеты 2 и 3 к одному распределению. Описать\n",
    "использованные статистические тесты.`\n"
   ]
  },
  {
   "cell_type": "code",
   "execution_count": 50,
   "metadata": {
    "collapsed": true
   },
   "outputs": [],
   "source": [
    "with open('./data/set2.txt') as f:\n",
    "    data_2 = [float(el) for el in f.readlines()]\n",
    "\n",
    "with open('./data/set3.txt') as f:\n",
    "    data_3 = [float(el) for el in f.readlines()]"
   ]
  },
  {
   "cell_type": "code",
   "execution_count": 56,
   "metadata": {
    "collapsed": false
   },
   "outputs": [
    {
     "name": "stdout",
     "output_type": "stream",
     "text": [
      "133882\n",
      "93371\n"
     ]
    }
   ],
   "source": [
    "print(len(data_2))\n",
    "print(len(data_3))"
   ]
  },
  {
   "cell_type": "code",
   "execution_count": 61,
   "metadata": {
    "collapsed": true
   },
   "outputs": [],
   "source": [
    "import random\n",
    "\n",
    "def plot_mutual_hist(data1, data2):\n",
    "    mlen = min(len(data1), len(data2))\n",
    "    random.shuffle(data1)\n",
    "    random.shuffle(data2)\n",
    "    plt.hist(data1[:mlen], bins='auto', alpha=0.5)  \n",
    "    plt.hist(data2[:mlen], bins='auto', alpha=0.5)  \n",
    "    plt.show()"
   ]
  },
  {
   "cell_type": "code",
   "execution_count": 62,
   "metadata": {
    "collapsed": false
   },
   "outputs": [
    {
     "data": {
      "image/png": "[encoded data removed]",
      "text/plain": [
       "<matplotlib.figure.Figure at 0x7fd1d25560b8>"
      ]
     },
     "metadata": {},
     "output_type": "display_data"
    }
   ],
   "source": [
    "plot_mutual_hist(data_2, data_3)"
   ]
  },
  {
   "cell_type": "markdown",
   "metadata": {},
   "source": [
    "Тест Колмогорова-Смирнова говорит что датасеты принадлежат различным популяциям:"
   ]
  },
  {
   "cell_type": "code",
   "execution_count": 143,
   "metadata": {
    "collapsed": false
   },
   "outputs": [
    {
     "data": {
      "text/plain": [
       "Ks_2sampResult(statistic=0.022871167807184539, pvalue=1.9165099982753169e-25)"
      ]
     },
     "execution_count": 143,
     "metadata": {},
     "output_type": "execute_result"
    }
   ],
   "source": [
    "scipy.stats.ks_2samp(data_2, data_3)"
   ]
  },
  {
   "cell_type": "markdown",
   "metadata": {},
   "source": [
    "Пусть наша нулевая гипотеза - что датасеты 2 и 3 из одной популяции (имеют одинаковое распределение)."
   ]
  },
  {
   "cell_type": "markdown",
   "metadata": {},
   "source": [
    "Альтернативная гипотеза - что датасеты 2 и 3 имеют различное распределение."
   ]
  },
  {
   "cell_type": "code",
   "execution_count": 185,
   "metadata": {
    "collapsed": true
   },
   "outputs": [],
   "source": [
    "def bin_similar_rangs(test_set):\n",
    "    start_index = 0\n",
    "    end_index = 0\n",
    "    for i in range(len(test_set)-1):\n",
    "        if not test_set[i][0] == test_set[i+1][0]:\n",
    "            test_set[i][2] = i\n",
    "            if end_index > start_index:\n",
    "                for j in range(start_index,end_index+1):\n",
    "                    test_set[j][2] = (end_index + start_index) / 2.0\n",
    "            else:\n",
    "                test_set[i][2] = i\n",
    "\n",
    "            start_index=i+1\n",
    "            end_index=i+1\n",
    "\n",
    "        else:\n",
    "            end_index+=1   \n",
    "\n",
    "    for j in range(start_index,end_index+1):\n",
    "        test_set[j][2] = (end_index + start_index) / 2.0\n",
    "    \n",
    "    return test_set\n",
    "\n",
    "\n",
    "def sum_rang_test(data1, data2, bin_similar = True):\n",
    "    \n",
    "    if len(data2) < len(data1):\n",
    "        data1, data2 = data2, data1\n",
    "     \n",
    "    n1 = len(data1)\n",
    "    n2 = len(data2)\n",
    "    \n",
    "    setA = [[val,'setA',0] for val in data1]\n",
    "    setB = [[val,'setB',0] for val in data2]\n",
    "    global_set = sorted(setA + setB, key=lambda tup: tup[0])\n",
    "    if bin_similar == True:\n",
    "        global_set = bin_similar_rangs(global_set)\n",
    "    else:\n",
    "        global_set = [[g[0],g[1],i] for i,g in enumerate(global_set)]\n",
    "        \n",
    "    setA_rang = 0\n",
    "    setB_rang = 0\n",
    "    \n",
    "    for i in range(len(global_set)):\n",
    "        if global_set[i][1] == 'setA':\n",
    "            setA_rang+=global_set[i][2]\n",
    "        else:\n",
    "            setB_rang+=global_set[i][2]\n",
    "            \n",
    "    mu_R = n1 * (n1 + n2 + 1) / 2.0\n",
    "    sigma_R = math.sqrt(n1*n2*(n1+n2+1)/12.0)\n",
    "    statistic = (setA_rang - mu_R)/sigma_R\n",
    "    return abs(statistic), 2*stats.distributions.norm.sf(abs(statistic))"
   ]
  },
  {
   "cell_type": "code",
   "execution_count": 186,
   "metadata": {
    "collapsed": false
   },
   "outputs": [
    {
     "data": {
      "text/plain": [
       "(6.566550222322673, 5.1494285062730062e-11)"
      ]
     },
     "execution_count": 186,
     "metadata": {},
     "output_type": "execute_result"
    }
   ],
   "source": [
    "sum_rang_test(data_2, data_3, bin_similar=False)"
   ]
  },
  {
   "cell_type": "code",
   "execution_count": 187,
   "metadata": {
    "collapsed": false
   },
   "outputs": [
    {
     "data": {
      "text/plain": [
       "(6.566041975693206, 5.1670256119003618e-11)"
      ]
     },
     "execution_count": 187,
     "metadata": {},
     "output_type": "execute_result"
    }
   ],
   "source": [
    "sum_rang_test(data_2, data_3, bin_similar=True)"
   ]
  },
  {
   "cell_type": "code",
   "execution_count": 188,
   "metadata": {
    "collapsed": false
   },
   "outputs": [
    {
     "data": {
      "text/plain": [
       "RanksumsResult(statistic=6.5599734979387305, pvalue=5.381734208205185e-11)"
      ]
     },
     "execution_count": 188,
     "metadata": {},
     "output_type": "execute_result"
    }
   ],
   "source": [
    "scipy.stats.ranksums(data_2, data_3)"
   ]
  },
  {
   "cell_type": "markdown",
   "metadata": {},
   "source": [
    "Значение p-value очень низкое ~10^-11 можем отклонить нулевую гипотезу и заключить что датасеты 2 и 3 из разных популяций."
   ]
  },
  {
   "cell_type": "markdown",
   "metadata": {},
   "source": [
    "# Вывод"
   ]
  },
  {
   "cell_type": "markdown",
   "metadata": {},
   "source": [
    "1) Был имплементирован генератор семплов из распределения $\\chi^2$.\n",
    "\n",
    "2) Был имплементирован rank sum test (Wilcoxon Rank Sum Test.), значение статистики достаточно хорошо совпадает с имплементацией теста из пакета stats (6.559 vs 6.566) и позволяет заключить что датасеты 2 и 3 из разных популяций и имеют различное распределение соответственно. "
   ]
  },
  {
   "cell_type": "code",
   "execution_count": null,
   "metadata": {
    "collapsed": true
   },
   "outputs": [],
   "source": []
  }
 ],
 "metadata": {
  "kernelspec": {
   "display_name": "Python [conda env:bioinf]",
   "language": "python",
   "name": "conda-env-bioinf-py"
  },
  "language_info": {
   "codemirror_mode": {
    "name": "ipython",
    "version": 3
   },
   "file_extension": ".py",
   "mimetype": "text/x-python",
   "name": "python",
   "nbconvert_exporter": "python",
   "pygments_lexer": "ipython3",
   "version": "3.6.3"
  }
 },
 "nbformat": 4,
 "nbformat_minor": 2
}
